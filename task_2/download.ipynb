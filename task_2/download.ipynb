{
 "metadata": {
  "kernelspec": {
   "language": "python",
   "display_name": "Python 3",
   "name": "python3"
  },
  "language_info": {
   "name": "python",
   "version": "3.10.12",
   "mimetype": "text/x-python",
   "codemirror_mode": {
    "name": "ipython",
    "version": 3
   },
   "pygments_lexer": "ipython3",
   "nbconvert_exporter": "python",
   "file_extension": ".py"
  }
 },
 "nbformat_minor": 4,
 "nbformat": 4,
 "cells": [
  {
   "cell_type": "code",
   "source": [
    "import numpy as np\n",
    "import pandas as pd"
   ],
   "metadata": {
    "_uuid": "8f2839f25d086af736a60e9eeb907d3b93b6e0e5",
    "_cell_guid": "b1076dfc-b9ad-4769-8c92-a6c4dae69d19",
    "execution": {
     "iopub.status.busy": "2023-11-08T12:16:58.292781Z",
     "iopub.execute_input": "2023-11-08T12:16:58.293364Z",
     "iopub.status.idle": "2023-11-08T12:16:58.667735Z",
     "shell.execute_reply.started": "2023-11-08T12:16:58.293321Z",
     "shell.execute_reply": "2023-11-08T12:16:58.666701Z"
    },
    "trusted": true
   },
   "execution_count": 1,
   "outputs": []
  },
  {
   "cell_type": "code",
   "source": [
    "import bq_helper\n",
    "from bq_helper import BigQueryHelper"
   ],
   "metadata": {
    "execution": {
     "iopub.status.busy": "2023-11-08T12:17:31.668407Z",
     "iopub.execute_input": "2023-11-08T12:17:31.669005Z",
     "iopub.status.idle": "2023-11-08T12:17:31.672844Z",
     "shell.execute_reply.started": "2023-11-08T12:17:31.668968Z",
     "shell.execute_reply": "2023-11-08T12:17:31.672023Z"
    },
    "trusted": true
   },
   "execution_count": 3,
   "outputs": []
  },
  {
   "cell_type": "code",
   "source": [
    "bq_assistant = BigQueryHelper(\"bigquery-public-data\", \"new_york\")\n",
    "bq_assistant.list_tables()"
   ],
   "metadata": {
    "execution": {
     "iopub.status.busy": "2023-11-08T12:17:53.532988Z",
     "iopub.execute_input": "2023-11-08T12:17:53.533369Z",
     "iopub.status.idle": "2023-11-08T12:17:54.647611Z",
     "shell.execute_reply.started": "2023-11-08T12:17:53.533337Z",
     "shell.execute_reply": "2023-11-08T12:17:54.646566Z"
    },
    "trusted": true
   },
   "execution_count": 4,
   "outputs": [
    {
     "name": "stdout",
     "text": "Using Kaggle's public dataset BigQuery integration.\n",
     "output_type": "stream"
    },
    {
     "execution_count": 4,
     "output_type": "execute_result",
     "data": {
      "text/plain": "['311_service_requests',\n 'citibike_stations',\n 'citibike_trips',\n 'nypd_mv_collisions',\n 'tlc_fhv_trips_2015',\n 'tlc_fhv_trips_2016',\n 'tlc_green_trips_2013',\n 'tlc_green_trips_2014',\n 'tlc_green_trips_2015',\n 'tlc_green_trips_2016',\n 'tlc_yellow_trips_2009',\n 'tlc_yellow_trips_2010',\n 'tlc_yellow_trips_2011',\n 'tlc_yellow_trips_2012',\n 'tlc_yellow_trips_2013',\n 'tlc_yellow_trips_2014',\n 'tlc_yellow_trips_2015',\n 'tlc_yellow_trips_2016',\n 'tree_census_1995',\n 'tree_census_2005',\n 'tree_census_2015',\n 'tree_species']"
     },
     "metadata": {}
    }
   ]
  },
  {
   "cell_type": "code",
   "source": [
    "bq_assistant.head(\"citibike_trips\", num_rows=10)"
   ],
   "metadata": {
    "execution": {
     "iopub.status.busy": "2023-11-08T12:18:51.459358Z",
     "iopub.execute_input": "2023-11-08T12:18:51.459725Z",
     "iopub.status.idle": "2023-11-08T12:18:52.239725Z",
     "shell.execute_reply.started": "2023-11-08T12:18:51.459698Z",
     "shell.execute_reply": "2023-11-08T12:18:52.238735Z"
    },
    "trusted": true
   },
   "execution_count": 5,
   "outputs": [
    {
     "execution_count": 5,
     "output_type": "execute_result",
     "data": {
      "text/plain": "   tripduration                 starttime                  stoptime  \\\n0           107 2014-06-06 13:02:01+00:00 2014-06-06 13:03:48+00:00   \n1          1105 2013-08-24 17:03:52+00:00 2013-08-24 17:22:17+00:00   \n2           990 2014-04-25 11:52:28+00:00 2014-04-25 12:08:58+00:00   \n3           138 2015-08-20 16:58:57+00:00 2015-08-20 17:01:16+00:00   \n4            78 2014-09-13 13:18:36+00:00 2014-09-13 13:19:54+00:00   \n5           826 2015-08-26 19:48:32+00:00 2015-08-26 20:02:19+00:00   \n6           122 2015-11-30 16:20:57+00:00 2015-11-30 16:23:00+00:00   \n7           999 2015-10-30 12:58:52+00:00 2015-10-30 13:15:32+00:00   \n8          1745 2014-04-03 11:57:26+00:00 2014-04-03 12:26:31+00:00   \n9           128 2016-08-29 13:48:25+00:00 2016-08-29 13:50:33+00:00   \n\n   start_station_id start_station_name  start_station_latitude  \\\n0               520    W 52 St & 5 Ave               40.759923   \n1               520    W 52 St & 5 Ave               40.759923   \n2               520    W 52 St & 5 Ave               40.759923   \n3               520    W 52 St & 5 Ave               40.759923   \n4               520    W 52 St & 5 Ave               40.759923   \n5               520    W 52 St & 5 Ave               40.759923   \n6               520    W 52 St & 5 Ave               40.759923   \n7               520    W 52 St & 5 Ave               40.759923   \n8               520    W 52 St & 5 Ave               40.759923   \n9               520    W 52 St & 5 Ave               40.759923   \n\n   start_station_longitude  end_station_id end_station_name  \\\n0               -73.976485             520  W 52 St & 5 Ave   \n1               -73.976485             520  W 52 St & 5 Ave   \n2               -73.976485             520  W 52 St & 5 Ave   \n3               -73.976485             520  W 52 St & 5 Ave   \n4               -73.976485             520  W 52 St & 5 Ave   \n5               -73.976485             520  W 52 St & 5 Ave   \n6               -73.976485             520  W 52 St & 5 Ave   \n7               -73.976485             520  W 52 St & 5 Ave   \n8               -73.976485             520  W 52 St & 5 Ave   \n9               -73.976485             520  W 52 St & 5 Ave   \n\n   end_station_latitude  end_station_longitude  bikeid    usertype  \\\n0             40.759923             -73.976485   16692  Subscriber   \n1             40.759923             -73.976485   15352    Customer   \n2             40.759923             -73.976485   20194  Subscriber   \n3             40.759923             -73.976485   21002  Subscriber   \n4             40.759923             -73.976485   19259    Customer   \n5             40.759923             -73.976485   17766    Customer   \n6             40.759923             -73.976485   17913    Customer   \n7             40.759923             -73.976485   23325  Subscriber   \n8             40.759923             -73.976485   21445  Subscriber   \n9             40.759923             -73.976485   23801    Customer   \n\n   birth_year   gender  \n0      1977.0     male  \n1         NaN  unknown  \n2      1973.0     male  \n3      1977.0     male  \n4         NaN  unknown  \n5         NaN  unknown  \n6         NaN  unknown  \n7      1958.0     male  \n8      1979.0     male  \n9         NaN  unknown  ",
      "text/html": "<div>\n<style scoped>\n    .dataframe tbody tr th:only-of-type {\n        vertical-align: middle;\n    }\n\n    .dataframe tbody tr th {\n        vertical-align: top;\n    }\n\n    .dataframe thead th {\n        text-align: right;\n    }\n</style>\n<table border=\"1\" class=\"dataframe\">\n  <thead>\n    <tr style=\"text-align: right;\">\n      <th></th>\n      <th>tripduration</th>\n      <th>starttime</th>\n      <th>stoptime</th>\n      <th>start_station_id</th>\n      <th>start_station_name</th>\n      <th>start_station_latitude</th>\n      <th>start_station_longitude</th>\n      <th>end_station_id</th>\n      <th>end_station_name</th>\n      <th>end_station_latitude</th>\n      <th>end_station_longitude</th>\n      <th>bikeid</th>\n      <th>usertype</th>\n      <th>birth_year</th>\n      <th>gender</th>\n    </tr>\n  </thead>\n  <tbody>\n    <tr>\n      <th>0</th>\n      <td>107</td>\n      <td>2014-06-06 13:02:01+00:00</td>\n      <td>2014-06-06 13:03:48+00:00</td>\n      <td>520</td>\n      <td>W 52 St &amp; 5 Ave</td>\n      <td>40.759923</td>\n      <td>-73.976485</td>\n      <td>520</td>\n      <td>W 52 St &amp; 5 Ave</td>\n      <td>40.759923</td>\n      <td>-73.976485</td>\n      <td>16692</td>\n      <td>Subscriber</td>\n      <td>1977.0</td>\n      <td>male</td>\n    </tr>\n    <tr>\n      <th>1</th>\n      <td>1105</td>\n      <td>2013-08-24 17:03:52+00:00</td>\n      <td>2013-08-24 17:22:17+00:00</td>\n      <td>520</td>\n      <td>W 52 St &amp; 5 Ave</td>\n      <td>40.759923</td>\n      <td>-73.976485</td>\n      <td>520</td>\n      <td>W 52 St &amp; 5 Ave</td>\n      <td>40.759923</td>\n      <td>-73.976485</td>\n      <td>15352</td>\n      <td>Customer</td>\n      <td>NaN</td>\n      <td>unknown</td>\n    </tr>\n    <tr>\n      <th>2</th>\n      <td>990</td>\n      <td>2014-04-25 11:52:28+00:00</td>\n      <td>2014-04-25 12:08:58+00:00</td>\n      <td>520</td>\n      <td>W 52 St &amp; 5 Ave</td>\n      <td>40.759923</td>\n      <td>-73.976485</td>\n      <td>520</td>\n      <td>W 52 St &amp; 5 Ave</td>\n      <td>40.759923</td>\n      <td>-73.976485</td>\n      <td>20194</td>\n      <td>Subscriber</td>\n      <td>1973.0</td>\n      <td>male</td>\n    </tr>\n    <tr>\n      <th>3</th>\n      <td>138</td>\n      <td>2015-08-20 16:58:57+00:00</td>\n      <td>2015-08-20 17:01:16+00:00</td>\n      <td>520</td>\n      <td>W 52 St &amp; 5 Ave</td>\n      <td>40.759923</td>\n      <td>-73.976485</td>\n      <td>520</td>\n      <td>W 52 St &amp; 5 Ave</td>\n      <td>40.759923</td>\n      <td>-73.976485</td>\n      <td>21002</td>\n      <td>Subscriber</td>\n      <td>1977.0</td>\n      <td>male</td>\n    </tr>\n    <tr>\n      <th>4</th>\n      <td>78</td>\n      <td>2014-09-13 13:18:36+00:00</td>\n      <td>2014-09-13 13:19:54+00:00</td>\n      <td>520</td>\n      <td>W 52 St &amp; 5 Ave</td>\n      <td>40.759923</td>\n      <td>-73.976485</td>\n      <td>520</td>\n      <td>W 52 St &amp; 5 Ave</td>\n      <td>40.759923</td>\n      <td>-73.976485</td>\n      <td>19259</td>\n      <td>Customer</td>\n      <td>NaN</td>\n      <td>unknown</td>\n    </tr>\n    <tr>\n      <th>5</th>\n      <td>826</td>\n      <td>2015-08-26 19:48:32+00:00</td>\n      <td>2015-08-26 20:02:19+00:00</td>\n      <td>520</td>\n      <td>W 52 St &amp; 5 Ave</td>\n      <td>40.759923</td>\n      <td>-73.976485</td>\n      <td>520</td>\n      <td>W 52 St &amp; 5 Ave</td>\n      <td>40.759923</td>\n      <td>-73.976485</td>\n      <td>17766</td>\n      <td>Customer</td>\n      <td>NaN</td>\n      <td>unknown</td>\n    </tr>\n    <tr>\n      <th>6</th>\n      <td>122</td>\n      <td>2015-11-30 16:20:57+00:00</td>\n      <td>2015-11-30 16:23:00+00:00</td>\n      <td>520</td>\n      <td>W 52 St &amp; 5 Ave</td>\n      <td>40.759923</td>\n      <td>-73.976485</td>\n      <td>520</td>\n      <td>W 52 St &amp; 5 Ave</td>\n      <td>40.759923</td>\n      <td>-73.976485</td>\n      <td>17913</td>\n      <td>Customer</td>\n      <td>NaN</td>\n      <td>unknown</td>\n    </tr>\n    <tr>\n      <th>7</th>\n      <td>999</td>\n      <td>2015-10-30 12:58:52+00:00</td>\n      <td>2015-10-30 13:15:32+00:00</td>\n      <td>520</td>\n      <td>W 52 St &amp; 5 Ave</td>\n      <td>40.759923</td>\n      <td>-73.976485</td>\n      <td>520</td>\n      <td>W 52 St &amp; 5 Ave</td>\n      <td>40.759923</td>\n      <td>-73.976485</td>\n      <td>23325</td>\n      <td>Subscriber</td>\n      <td>1958.0</td>\n      <td>male</td>\n    </tr>\n    <tr>\n      <th>8</th>\n      <td>1745</td>\n      <td>2014-04-03 11:57:26+00:00</td>\n      <td>2014-04-03 12:26:31+00:00</td>\n      <td>520</td>\n      <td>W 52 St &amp; 5 Ave</td>\n      <td>40.759923</td>\n      <td>-73.976485</td>\n      <td>520</td>\n      <td>W 52 St &amp; 5 Ave</td>\n      <td>40.759923</td>\n      <td>-73.976485</td>\n      <td>21445</td>\n      <td>Subscriber</td>\n      <td>1979.0</td>\n      <td>male</td>\n    </tr>\n    <tr>\n      <th>9</th>\n      <td>128</td>\n      <td>2016-08-29 13:48:25+00:00</td>\n      <td>2016-08-29 13:50:33+00:00</td>\n      <td>520</td>\n      <td>W 52 St &amp; 5 Ave</td>\n      <td>40.759923</td>\n      <td>-73.976485</td>\n      <td>520</td>\n      <td>W 52 St &amp; 5 Ave</td>\n      <td>40.759923</td>\n      <td>-73.976485</td>\n      <td>23801</td>\n      <td>Customer</td>\n      <td>NaN</td>\n      <td>unknown</td>\n    </tr>\n  </tbody>\n</table>\n</div>"
     },
     "metadata": {}
    }
   ]
  },
  {
   "cell_type": "code",
   "source": [
    "nyc = bq_helper.BigQueryHelper(active_project=\"bigquery-public-data\",\n",
    "                                   dataset_name=\"new_york\")"
   ],
   "metadata": {
    "execution": {
     "iopub.status.busy": "2023-11-08T12:23:18.508763Z",
     "iopub.execute_input": "2023-11-08T12:23:18.509147Z",
     "iopub.status.idle": "2023-11-08T12:23:18.515253Z",
     "shell.execute_reply.started": "2023-11-08T12:23:18.509118Z",
     "shell.execute_reply": "2023-11-08T12:23:18.514112Z"
    },
    "trusted": true
   },
   "execution_count": 7,
   "outputs": [
    {
     "name": "stdout",
     "text": "Using Kaggle's public dataset BigQuery integration.\n",
     "output_type": "stream"
    }
   ]
  },
  {
   "cell_type": "code",
   "source": [
    "query15 = \"\"\"SELECT\n",
    "  *\n",
    "FROM\n",
    "  `bigquery-public-data.new_york.nypd_mv_collisions`\n",
    "WHERE\n",
    "  on_street_name <> ''\n",
    "LIMIT\n",
    "  10000000;\n",
    "        \"\"\"\n",
    "response1 = nyc.query_to_pandas_safe(query15, max_gb_scanned=10)\n",
    "#response1.head(30)"
   ],
   "metadata": {
    "execution": {
     "iopub.status.busy": "2023-11-08T13:07:40.345212Z",
     "iopub.execute_input": "2023-11-08T13:07:40.345638Z",
     "iopub.status.idle": "2023-11-08T13:12:32.379049Z",
     "shell.execute_reply.started": "2023-11-08T13:07:40.345604Z",
     "shell.execute_reply": "2023-11-08T13:12:32.377950Z"
    },
    "trusted": true
   },
   "execution_count": 52,
   "outputs": []
  },
  {
   "cell_type": "code",
   "source": [
    "file_name = 'test.csv'\n",
    "response1.to_csv(file_name)"
   ],
   "metadata": {
    "execution": {
     "iopub.status.busy": "2023-11-08T13:12:41.001155Z",
     "iopub.execute_input": "2023-11-08T13:12:41.001973Z",
     "iopub.status.idle": "2023-11-08T13:12:57.786946Z",
     "shell.execute_reply.started": "2023-11-08T13:12:41.001932Z",
     "shell.execute_reply": "2023-11-08T13:12:57.785817Z"
    },
    "trusted": true
   },
   "execution_count": 53,
   "outputs": []
  },
  {
   "cell_type": "code",
   "source": [
    "df = bq_assistant.head(\"tlc_yellow_trips_2016\", num_rows=10000000)"
   ],
   "metadata": {
    "execution": {
     "iopub.status.busy": "2023-11-08T13:17:39.060874Z",
     "iopub.execute_input": "2023-11-08T13:17:39.061290Z"
    },
    "trusted": true
   },
   "execution_count": null,
   "outputs": []
  },
  {
   "cell_type": "code",
   "source": [
    "file_name = 'data.csv'\n",
    "df.to_csv(file_name)"
   ],
   "metadata": {
    "execution": {
     "iopub.status.busy": "2023-11-08T13:17:28.205413Z",
     "iopub.execute_input": "2023-11-08T13:17:28.205857Z",
     "iopub.status.idle": "2023-11-08T13:17:30.538367Z",
     "shell.execute_reply.started": "2023-11-08T13:17:28.205822Z",
     "shell.execute_reply": "2023-11-08T13:17:30.536983Z"
    },
    "trusted": true
   },
   "execution_count": 58,
   "outputs": []
  }
 ]
}
