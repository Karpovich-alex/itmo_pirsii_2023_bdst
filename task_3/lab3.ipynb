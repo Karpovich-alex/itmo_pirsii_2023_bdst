{
 "cells": [
  {
   "cell_type": "code",
   "execution_count": 16,
   "id": "adc2c20b",
   "metadata": {
    "ExecuteTime": {
     "end_time": "2023-12-05T21:51:33.508155800Z",
     "start_time": "2023-12-05T21:51:33.486390400Z"
    }
   },
   "outputs": [],
   "source": [
    "import avro.schema\n",
    "from avro.io import DatumWriter, DatumReader\n",
    "from avro.datafile import DataFileWriter, DataFileReader\n",
    "import tempfile\n",
    "import numpy as np\n",
    "from main import LZW"
   ]
  },
  {
   "cell_type": "code",
   "execution_count": 20,
   "id": "d924bf8f",
   "metadata": {
    "ExecuteTime": {
     "end_time": "2023-12-05T21:52:27.438481600Z",
     "start_time": "2023-12-05T21:52:27.397798600Z"
    }
   },
   "outputs": [],
   "source": [
    "lzw = LZW()\n",
    "\n",
    "with open(\"test.txt\") as file:\n",
    "    text = file.read()"
   ]
  },
  {
   "cell_type": "code",
   "execution_count": 21,
   "outputs": [],
   "source": [
    "enc = lzw.encode(text)\n",
    "with open('test.bn', \"wb\") as file:\n",
    "    file.write(enc.)"
   ],
   "metadata": {
    "collapsed": false,
    "ExecuteTime": {
     "end_time": "2023-12-05T21:52:27.824671800Z",
     "start_time": "2023-12-05T21:52:27.804881900Z"
    }
   },
   "id": "9cd6d680862425ac"
  },
  {
   "cell_type": "code",
   "execution_count": 27,
   "outputs": [],
   "source": [
    "lzw = LZW()\n",
    "enc = lzw.encode(text)\n",
    "schema = avro.schema.parse(open(\"schema.avsc\", \"rb\").read())\n",
    "data = {\"sonnets\": enc}\n",
    "file = 'compressed_text.avro'\n",
    "\n",
    "writer = DataFileWriter(open(file, \"wb\"), DatumWriter(), schema)\n",
    "writer.append(data)\n",
    "writer.close()"
   ],
   "metadata": {
    "collapsed": false,
    "ExecuteTime": {
     "end_time": "2023-12-05T21:56:06.953073300Z",
     "start_time": "2023-12-05T21:56:06.922223900Z"
    }
   },
   "id": "911962325c68213"
  },
  {
   "cell_type": "code",
   "execution_count": null,
   "outputs": [],
   "source": [
    "reader = DataFileReader(open(file, \"rb\"), DatumReader())\n",
    "for t in reader:\n",
    "    test = t['sonnets']\n",
    "    dec = lzw.decode(test)\n",
    "    print(dec)\n",
    "    \n",
    "reader.close()"
   ],
   "metadata": {
    "collapsed": false
   },
   "id": "c6d2ff4c611c8da4"
  },
  {
   "cell_type": "code",
   "execution_count": 1,
   "outputs": [
    {
     "name": "stdout",
     "output_type": "stream",
     "text": [
      "Collecting lzw3\n",
      "  Downloading lzw3-0.4-py3-none-any.whl (24 kB)\n",
      "Installing collected packages: lzw3\n",
      "Successfully installed lzw3-0.4\n"
     ]
    },
    {
     "name": "stderr",
     "output_type": "stream",
     "text": [
      "\n",
      "[notice] A new release of pip available: 22.3.1 -> 23.3.1\n",
      "[notice] To update, run: python.exe -m pip install --upgrade pip\n"
     ]
    }
   ],
   "source": [
    "!pip install lzw3"
   ],
   "metadata": {
    "collapsed": false
   },
   "id": "647734f448527fdf"
  },
  {
   "cell_type": "code",
   "execution_count": 13,
   "outputs": [
    {
     "name": "stdout",
     "output_type": "stream",
     "text": [
      "[00:44:18] {MAIN} Executing LZW task with following options:\n",
      "\trecursive:  False\n",
      "\tverbose:    True\n",
      "\ttime:       True\n",
      "\tkeep:       True\n",
      "\tforce:      False\n",
      "\tdebug:      True\n",
      "\tfiles:      ['test.txt']\n",
      "[00:44:18] {COMPRESSOR} Initializing sequence table; alphabet size = 256\n",
      "[00:44:18] {COMPRESSOR} Compressing file 'test.txt' to 'test.txt.Z'\n",
      "'test.txt' compressed from 3.1K to 1.8K - space saved = 41.8% (0ms)\n"
     ]
    }
   ],
   "source": [
    "!python -m lzw3.compressor -k -t -v -d test.txt"
   ],
   "metadata": {
    "collapsed": false,
    "ExecuteTime": {
     "end_time": "2023-12-05T21:44:18.463133300Z",
     "start_time": "2023-12-05T21:44:18.107344300Z"
    }
   },
   "id": "7c82d2656c31c3b3"
  },
  {
   "cell_type": "code",
   "execution_count": 7,
   "outputs": [],
   "source": [
    "import lzw3.compressor\n"
   ],
   "metadata": {
    "collapsed": false,
    "ExecuteTime": {
     "end_time": "2023-12-05T21:39:08.985478600Z",
     "start_time": "2023-12-05T21:39:08.955001Z"
    }
   },
   "id": "45ac8045fb9eb473"
  },
  {
   "cell_type": "code",
   "execution_count": 8,
   "outputs": [
    {
     "ename": "TypeError",
     "evalue": "'module' object is not callable",
     "output_type": "error",
     "traceback": [
      "\u001B[1;31m---------------------------------------------------------------------------\u001B[0m",
      "\u001B[1;31mTypeError\u001B[0m                                 Traceback (most recent call last)",
      "Cell \u001B[1;32mIn[8], line 1\u001B[0m\n\u001B[1;32m----> 1\u001B[0m \u001B[43mlzw3\u001B[49m\u001B[38;5;241;43m.\u001B[39;49m\u001B[43mcompressor\u001B[49m\u001B[43m(\u001B[49m\u001B[38;5;124;43m\"\u001B[39;49m\u001B[38;5;124;43m1233562342\u001B[39;49m\u001B[38;5;124;43m\"\u001B[39;49m\u001B[43m)\u001B[49m\n",
      "\u001B[1;31mTypeError\u001B[0m: 'module' object is not callable"
     ]
    }
   ],
   "source": [
    "lzw3.compressor.LZWCompressor.compress(\"1233562342\")"
   ],
   "metadata": {
    "collapsed": false,
    "ExecuteTime": {
     "end_time": "2023-12-05T21:39:15.151161700Z",
     "start_time": "2023-12-05T21:39:15.127067600Z"
    }
   },
   "id": "78227e9f6bde9db8"
  },
  {
   "cell_type": "code",
   "execution_count": null,
   "outputs": [],
   "source": [],
   "metadata": {
    "collapsed": false
   },
   "id": "6abc05cb930bc412"
  }
 ],
 "metadata": {
  "kernelspec": {
   "display_name": "Python 3 (ipykernel)",
   "language": "python",
   "name": "python3"
  },
  "language_info": {
   "codemirror_mode": {
    "name": "ipython",
    "version": 3
   },
   "file_extension": ".py",
   "mimetype": "text/x-python",
   "name": "python",
   "nbconvert_exporter": "python",
   "pygments_lexer": "ipython3",
   "version": "3.11.5"
  }
 },
 "nbformat": 4,
 "nbformat_minor": 5
}
