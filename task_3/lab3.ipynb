{
 "cells": [
  {
   "cell_type": "code",
   "execution_count": 71,
   "id": "adc2c20b",
   "metadata": {
    "ExecuteTime": {
     "end_time": "2023-12-06T11:00:03.519683900Z",
     "start_time": "2023-12-06T11:00:03.503971900Z"
    }
   },
   "outputs": [],
   "source": [
    "import avro.schema\n",
    "from avro.io import DatumWriter, DatumReader\n",
    "from avro.datafile import DataFileWriter, DataFileReader\n",
    "import tempfile\n",
    "import numpy as np\n",
    "from main import LZW\n",
    "import struct"
   ]
  },
  {
   "cell_type": "code",
   "execution_count": 72,
   "outputs": [],
   "source": [
    "def pack(data):\n",
    "    buffer = bytearray([])\n",
    "    for el in data:\n",
    "        buffer.extend(struct.pack(\"H\", el+1))\n",
    "    return buffer\n",
    "\n",
    "def unpack(buffer: bytearray):\n",
    "    i=0\n",
    "    data = []\n",
    "    while i < len(buffer):\n",
    "        data.append(struct.unpack(\"H\", buffer[i: i+2])[0]-1)\n",
    "        i+=2\n",
    "    return data"
   ],
   "metadata": {
    "collapsed": false,
    "ExecuteTime": {
     "end_time": "2023-12-06T11:00:03.860249600Z",
     "start_time": "2023-12-06T11:00:03.850254800Z"
    }
   },
   "id": "33f08f04cee69e23"
  },
  {
   "cell_type": "code",
   "execution_count": 73,
   "id": "d924bf8f",
   "metadata": {
    "ExecuteTime": {
     "end_time": "2023-12-06T11:00:04.195689500Z",
     "start_time": "2023-12-06T11:00:04.177029800Z"
    }
   },
   "outputs": [],
   "source": [
    "lzw = LZW()\n",
    "\n",
    "with open(\"test.txt\") as file:\n",
    "    text = file.read()"
   ]
  },
  {
   "cell_type": "code",
   "execution_count": 79,
   "outputs": [],
   "source": [
    "enc = lzw.encode(text)\n",
    "bin_data = pack(enc)\n",
    "\n",
    "with open('test.bn', \"wb\") as file:\n",
    "    file.write(bin_data)"
   ],
   "metadata": {
    "collapsed": false,
    "ExecuteTime": {
     "end_time": "2023-12-06T11:00:18.235739500Z",
     "start_time": "2023-12-06T11:00:18.222742200Z"
    }
   },
   "id": "9cd6d680862425ac"
  },
  {
   "cell_type": "code",
   "execution_count": null,
   "outputs": [],
   "source": [
    "unbin_data = unpack(bin_data)"
   ],
   "metadata": {
    "collapsed": false
   },
   "id": "47b62524704b0a8a"
  },
  {
   "cell_type": "code",
   "execution_count": 3,
   "outputs": [],
   "source": [
    "lzw = LZW()\n",
    "enc = lzw.encode(text)\n",
    "schema = avro.schema.parse(open(\"schema.avsc\", \"rb\").read())\n",
    "data = {\"sonnets\": enc}\n",
    "file = 'compressed_text.avro'\n",
    "\n",
    "writer = DataFileWriter(open(file, \"wb\"), DatumWriter(), schema)\n",
    "writer.append(data)\n",
    "writer.close()"
   ],
   "metadata": {
    "collapsed": false,
    "ExecuteTime": {
     "end_time": "2023-12-06T10:29:16.682517400Z",
     "start_time": "2023-12-06T10:29:16.654263600Z"
    }
   },
   "id": "911962325c68213"
  },
  {
   "cell_type": "code",
   "execution_count": null,
   "outputs": [],
   "source": [
    "reader = DataFileReader(open(file, \"rb\"), DatumReader())\n",
    "for t in reader:\n",
    "    test = t['sonnets']\n",
    "    dec = lzw.decode(test)\n",
    "    print(dec)\n",
    "    \n",
    "reader.close()"
   ],
   "metadata": {
    "collapsed": false
   },
   "id": "c6d2ff4c611c8da4"
  },
  {
   "cell_type": "code",
   "execution_count": 1,
   "outputs": [
    {
     "name": "stdout",
     "output_type": "stream",
     "text": [
      "Collecting lzw3\n",
      "  Downloading lzw3-0.4-py3-none-any.whl (24 kB)\n",
      "Installing collected packages: lzw3\n",
      "Successfully installed lzw3-0.4\n"
     ]
    },
    {
     "name": "stderr",
     "output_type": "stream",
     "text": [
      "\n",
      "[notice] A new release of pip available: 22.3.1 -> 23.3.1\n",
      "[notice] To update, run: python.exe -m pip install --upgrade pip\n"
     ]
    }
   ],
   "source": [
    "!pip install lzw3"
   ],
   "metadata": {
    "collapsed": false
   },
   "id": "647734f448527fdf"
  },
  {
   "cell_type": "code",
   "execution_count": 13,
   "outputs": [
    {
     "name": "stdout",
     "output_type": "stream",
     "text": [
      "[00:44:18] {MAIN} Executing LZW task with following options:\n",
      "\trecursive:  False\n",
      "\tverbose:    True\n",
      "\ttime:       True\n",
      "\tkeep:       True\n",
      "\tforce:      False\n",
      "\tdebug:      True\n",
      "\tfiles:      ['test.txt']\n",
      "[00:44:18] {COMPRESSOR} Initializing sequence table; alphabet size = 256\n",
      "[00:44:18] {COMPRESSOR} Compressing file 'test.txt' to 'test.txt.Z'\n",
      "'test.txt' compressed from 3.1K to 1.8K - space saved = 41.8% (0ms)\n"
     ]
    }
   ],
   "source": [
    "!python -m lzw3.compressor -k -t -v -d test.txt"
   ],
   "metadata": {
    "collapsed": false,
    "ExecuteTime": {
     "end_time": "2023-12-05T21:44:18.463133300Z",
     "start_time": "2023-12-05T21:44:18.107344300Z"
    }
   },
   "id": "7c82d2656c31c3b3"
  }
 ],
 "metadata": {
  "kernelspec": {
   "display_name": "Python 3 (ipykernel)",
   "language": "python",
   "name": "python3"
  },
  "language_info": {
   "codemirror_mode": {
    "name": "ipython",
    "version": 3
   },
   "file_extension": ".py",
   "mimetype": "text/x-python",
   "name": "python",
   "nbconvert_exporter": "python",
   "pygments_lexer": "ipython3",
   "version": "3.11.5"
  }
 },
 "nbformat": 4,
 "nbformat_minor": 5
}
